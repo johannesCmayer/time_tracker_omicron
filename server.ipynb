{
 "cells": [
  {
   "cell_type": "markdown",
   "id": "f0f80628-c9eb-423c-a838-e665c426f8ae",
   "metadata": {},
   "source": [
    "### TODO\n",
    "- Assign projects unique colors and use them everywhere\n",
    "- DONE Setup Keyboard shortcut to view plots\n",
    "- Set up minutely regeneration of plots\n",
    "- Show date in bar plots\n",
    "- Implement time_entry_days = diskcache.Cache(f\"{project_dir}/time_entry_days.cache\")\n",
    "- Implement a goal accumulative graph\n",
    "  - Implement a graph that goes further back (and generalize other code so it goes further back in time)"
   ]
  },
  {
   "cell_type": "code",
   "execution_count": 1,
   "id": "06e4ba11-9fa0-4f9e-bc88-6f781e0750cd",
   "metadata": {},
   "outputs": [],
   "source": [
    "CLEAR_NAME_CACHE = False\n",
    "CLEAR_PLOTS = False"
   ]
  },
  {
   "cell_type": "code",
   "execution_count": 2,
   "id": "a5ead08a-21a9-4432-876b-6ba0ef9fa4b2",
   "metadata": {},
   "outputs": [],
   "source": [
    "import requests\n",
    "import base64\n",
    "import json\n",
    "import gc\n",
    "import os\n",
    "import time\n",
    "import datetime as dt\n",
    "from datetime import datetime, date\n",
    "import pytz\n",
    "import diskcache\n",
    "import urllib.parse\n",
    "from matplotlib import pyplot as plt\n",
    "plt.rcParams.update({'font.family': 'Noto Sans CJK JP'})\n",
    "import numpy as np\n",
    "from operator import itemgetter, attrgetter\n",
    "import pandas as pd\n",
    "from pdb import set_trace\n",
    "from IPython.display import clear_output\n",
    "from glob import glob as glob\n",
    "import math\n",
    "import pickle\n",
    "from multiprocessing import Process\n",
    "import socket\n",
    "import yaml"
   ]
  },
  {
   "cell_type": "code",
   "execution_count": 3,
   "id": "32897b8b-7761-4126-8d6b-b49ff9936895",
   "metadata": {},
   "outputs": [],
   "source": [
    "with open(\"config.yaml\") as f:\n",
    "    config = yaml.load(f, Loader=yaml.FullLoader)"
   ]
  },
  {
   "cell_type": "code",
   "execution_count": 4,
   "id": "d72793c1-8558-4f0c-8639-39f43aab44db",
   "metadata": {},
   "outputs": [],
   "source": [
    "if CLEAR_PLOTS:\n",
    "    for f in glob(\"plots/*\"):\n",
    "        os.remove(f)"
   ]
  },
  {
   "cell_type": "markdown",
   "id": "c93ff84e-7e0b-4c72-b660-12c012b48935",
   "metadata": {
    "tags": []
   },
   "source": [
    "# Functionality"
   ]
  },
  {
   "cell_type": "markdown",
   "id": "ce9a85ad-5d07-41c2-a8af-c579f8b2ebf7",
   "metadata": {
    "tags": []
   },
   "source": [
    "## Utils"
   ]
  },
  {
   "cell_type": "code",
   "execution_count": 5,
   "id": "39a82852-a6c6-48be-9e4f-95eb6f03c494",
   "metadata": {},
   "outputs": [],
   "source": [
    "def now():\n",
    "    return datetime.utcnow().replace(tzinfo=pytz.utc)\n",
    "\n",
    "def filter_dict(d, keys):\n",
    "    return list(map(lambda x: {k: v for k, v in x.items() if k in keys}, d))"
   ]
  },
  {
   "cell_type": "markdown",
   "id": "870b2674-0b06-481c-ab7e-728fca3b4b05",
   "metadata": {
    "tags": []
   },
   "source": [
    "## Setting up Toggl API\n",
    "Note that a safe API request rate is 1 request per second."
   ]
  },
  {
   "cell_type": "code",
   "execution_count": 6,
   "id": "ed937ef4-e4f8-4fae-8b57-70f017cf0025",
   "metadata": {},
   "outputs": [],
   "source": [
    "project_dir = os.path.abspath('')\n",
    "\n",
    "API_version = 'v9'\n",
    "prefix = f\"https://api.track.toggl.com/api/\"\n",
    "\n",
    "API = {\n",
    "    \"time_entries\" :          prefix + \"v8\" + \"/time_entries\",\n",
    "    \"get_current_time_entry\": prefix + API_version + \"/me/time_entries/current\", \n",
    "    \"me_info\" :               prefix + API_version + \"/me\",\n",
    "    \"projects_me\" :           prefix + API_version + \"/me/projects\",\n",
    "    \"projects_ws\" :           prefix + API_version + \"/workspaces/4143224/projects\",\n",
    "    \"workspaces\" :            prefix + API_version + \"/workspaces\",\n",
    "}\n",
    "\n",
    "with open(f\"{project_dir}/api_key.txt\") as f:\n",
    "    API_token = f\"{f.read()}:api_token\"\n",
    "API_token_base64 = base64.b64encode(API_token.encode('ascii')).decode('ascii')\n",
    "\n",
    "project_id_names = diskcache.Cache(f\"{project_dir}/project_id_names.cache\")\n",
    "if CLEAR_NAME_CACHE:\n",
    "    project_id_names.clear()"
   ]
  },
  {
   "cell_type": "code",
   "execution_count": 7,
   "id": "cad3c75b-3152-4d01-9c97-0c0508633986",
   "metadata": {
    "tags": []
   },
   "outputs": [],
   "source": [
    "def fetch(url, headers={}):\n",
    "    headers={\"Content-Type\": \"application/json\", \n",
    "                                    \"Host\": \"api.track.toggl.com\",\n",
    "                                    \"authorization\": f\"Basic {API_token_base64}\", \n",
    "                                    **headers}\n",
    "    r = requests.get(url, headers=headers)\n",
    "    return json.loads(r.content.decode('utf-8'))\n",
    "\n",
    "def fetch_project(project_id):\n",
    "    return fetch(f\"{API['projects_ws']}/{project_id}\")"
   ]
  },
  {
   "cell_type": "code",
   "execution_count": 8,
   "id": "7732a465-d9db-448e-a66e-4de525be6cdf",
   "metadata": {},
   "outputs": [],
   "source": [
    "def update_current_time_entry_duration(time_entry):\n",
    "    time_entry[\"duration\"] = (datetime.utcnow().replace(tzinfo=pytz.utc) - \\\n",
    "                              time_entry[\"start\"]).seconds\n",
    "    return time_entry\n",
    "\n",
    "def get_time_entries(start_date, end_date):\n",
    "    date_to_str = lambda date: date.strftime('%Y-%m-%dT%H:%M:%S') + f'{date.strftime(\"%z\")[:3]}:{date.strftime(\"%z\")[3:]}'\n",
    "    url_exts = '?'\n",
    "    url_exts += f\"start_date={urllib.parse.quote(date_to_str(start_date))}\"\n",
    "    url_exts += f\"&end_date={urllib.parse.quote(date_to_str(end_date))}\"\n",
    "    time_entries = fetch(API['time_entries'] + url_exts)\n",
    "        \n",
    "    time_entries = [x for x in time_entries if 'pid' in x]\n",
    "        \n",
    "    for time_entry in time_entries:\n",
    "        project_id = time_entry['pid']\n",
    "        if project_id not in project_id_names:\n",
    "            project_id_names[project_id] = fetch_project(project_id)\n",
    "        time_entry['project_name'] = project_id_names[project_id]['name']\n",
    "        \n",
    "        time_entry['start'] = datetime.fromisoformat(time_entry['start'])\n",
    "        if 'stop' in time_entry:\n",
    "            time_entry['stop'] = datetime.fromisoformat(time_entry['stop'])\n",
    "        if time_entry['duration'] < 0:\n",
    "            time_entry = update_current_time_entry_duration(time_entry)        \n",
    "    return time_entries\n",
    "\n",
    "def get_day_entries(date):\n",
    "    # TODO\n",
    "    start_date = datetime.fromisoformat(f'{str(date)}T01:00:00+00:00')\n",
    "    end_date = datetime.fromisoformat(f'{str(date)}T23:59:59+00:00')\n",
    "    return get_time_entries(start_date, end_date)\n",
    "\n",
    "def get_todays_entries():\n",
    "    return get_day_entries(date.today())\n",
    "\n",
    "def get_week_entries():\n",
    "    pass\n",
    "\n",
    "def get_month_entries():\n",
    "    pass\n",
    "\n",
    "def get_last_n_days(n):\n",
    "    entries = []\n",
    "    for i in range(n):\n",
    "        entries.append(get_day_entries(date.today() - dt.timedelta(n-1-i)))\n",
    "    return entries\n",
    "\n",
    "def get_all_data():\n",
    "    pass "
   ]
  },
  {
   "cell_type": "markdown",
   "id": "ee540940-a8f0-487f-bc21-cf5b77576d67",
   "metadata": {},
   "source": [
    "## Time entry processing"
   ]
  },
  {
   "cell_type": "code",
   "execution_count": 9,
   "id": "a8e9b9e6-e8a5-4c17-823a-9b5a61f70148",
   "metadata": {},
   "outputs": [],
   "source": [
    "def accumulate(entries):\n",
    "    times = {}\n",
    "    for entry in entries:\n",
    "        times[entry['project_name']] = times.get(entry['project_name'], 0) + entry['duration']\n",
    "    return sorted(list(times.items()), key=itemgetter(1))\n",
    "\n",
    "def n_acc(n, sleep=False):\n",
    "    entries = get_last_n_days(n)\n",
    "    entries = list(map(accumulate, entries))\n",
    "    return entries\n",
    "\n",
    "def filter_sleep(entries):\n",
    "    \"The expected format is [[]]. Each list element at depth 1 represents a day. A list item at depth two represents a time entry.\"\n",
    "    return [[(k,v) for k,v in x if k != 'sleep睡眠'] for x in entries]"
   ]
  },
  {
   "cell_type": "markdown",
   "id": "d1b5b7fb-dc79-4b1b-b519-d66c2412abcd",
   "metadata": {
    "tags": []
   },
   "source": [
    "# Goals"
   ]
  },
  {
   "cell_type": "code",
   "execution_count": 10,
   "id": "afb3bb85-5b8f-404b-b05b-d6c97e9e61aa",
   "metadata": {},
   "outputs": [],
   "source": [
    "%%capture\n",
    "print(\"Projects:\")\n",
    "for k in project_id_names:\n",
    "    print(k, project_id_names[k]['name'])\n",
    "print()"
   ]
  },
  {
   "cell_type": "code",
   "execution_count": 11,
   "id": "bff198fc-943d-4546-9a99-88326be1f88c",
   "metadata": {},
   "outputs": [],
   "source": [
    "%%capture\n",
    "print(\"Daily goals, given as project_id and minutes:\")\n",
    "daily_goals = [\n",
    "               (186119188, 15), # Reflect           \n",
    "               (163125865, 40), # Meditate           \n",
    "               (165304788, 30), # Sport\n",
    "               (163125846, 10), # Tulpa training\n",
    "               (165301785, 90), # AIA original                   \n",
    "               (185927511, 25), # AIA_skillup\n",
    "               (186291374, 25), # AIA_explain\n",
    "               (187852475, 25), # read\n",
    "               (168113610, 15), # Steno\n",
    "             ]\n",
    "daily_goals = [(pid, project_id_names[pid]['name'], mins*60) for pid, mins in daily_goals]\n",
    "for i in daily_goals:\n",
    "    print(i)\n",
    "print()\n",
    "daily_goals.reverse()"
   ]
  },
  {
   "cell_type": "markdown",
   "id": "0ddf4e2c-436d-4495-9fab-03d722fcf055",
   "metadata": {},
   "source": [
    "# Visualisations"
   ]
  },
  {
   "cell_type": "code",
   "execution_count": 12,
   "id": "d408f041-9989-4a6c-8ebc-b9ba300d09de",
   "metadata": {},
   "outputs": [],
   "source": [
    "def general_axis(ax):\n",
    "    ax.set_facecolor('white')\n",
    "    return ax"
   ]
  },
  {
   "cell_type": "code",
   "execution_count": 13,
   "id": "32799983-794f-48bd-be4a-5f9bbe661526",
   "metadata": {},
   "outputs": [],
   "source": [
    "def cumulative_plot(axs, data, daily_goals, limit_y=True):\n",
    "    text_size = 14\n",
    "    plot_y_lim = 1.2\n",
    "    axs.grid(which='both')\n",
    "    general_axis(axs)\n",
    "    day = data[0]\n",
    "    day_d = dict(day)\n",
    "    percents = [np.array([day_d.get(name, 0) / seconds / len(data) for _,name,seconds in daily_goals])]\n",
    "    for i, day in enumerate(data[1:]):\n",
    "        day_d = dict(day)\n",
    "        percents.append(np.array(percents[-1]) + np.array([day_d.get(name, 0) / seconds / len(data) for _,name,seconds in daily_goals]))\n",
    "    percents = np.array(percents)\n",
    "    for i in range(percents.shape[1]):\n",
    "        axs.plot(np.arange(-percents.shape[0]+1, 1), percents[:,i], label=daily_goals[i][1], linewidth=7.5, alpha=0.5)\n",
    "        target = percents[-2,i] + (1 / (len(percents) - 1))\n",
    "        color = 'red' if percents[-1,i] < target else 'lime'\n",
    "        axs.plot([-1, 0], [percents[-2,i], target], linestyle='dashed', color=color, alpha=0.5)\n",
    "        if not limit_y:\n",
    "            axs.text(0, percents[-1,i], str(daily_goals[i][1]), va='center')\n",
    "        else:\n",
    "            for j in range(percents.shape[0]):\n",
    "                if percents[j,i] > plot_y_lim and j > 0 and percents[j-1,i] < plot_y_lim:\n",
    "                    axs.text(-7+j, percents[j-1,i], str(daily_goals[i][1]), va='center')\n",
    "                    break\n",
    "            else:\n",
    "                if percents[j-1,i] < plot_y_lim:\n",
    "                    axs.text(0, percents[-1,i], str(daily_goals[i][1]), va='center')\n",
    "                \n",
    "    axs.plot(0,1,marker=4)\n",
    "    axs.plot([-6,0],[0,1], linestyle='dashed', label='optimal', linewidth=3, alpha=0.4)\n",
    "    if limit_y:\n",
    "        axs.set_ylim(-0.03, plot_y_lim)\n",
    "    axs.legend()\n",
    "\n",
    "def generate_cumulative_plot(acc_7, show_plot=True):\n",
    "    text_size = 14\n",
    "    scale = 1.5*1.41\n",
    "    \n",
    "    fig, axs = plt.subplots(1,1,figsize=(16*scale,9*scale))\n",
    "    figtitle = \"0_cumulative_goals_1\"\n",
    "    fig.suptitle(figtitle, fontsize=text_size*3)\n",
    "    cumulative_plot(axs, acc_7, daily_goals)\n",
    "    plt.savefig(f\"plots/{figtitle}.svg\", facecolor='white', transparent=False, bbox_inches='tight')\n",
    "    \n",
    "    fig, axs = plt.subplots(1,1,figsize=(16*scale,9*scale))\n",
    "    figtitle = \"0_cumulative_goals_2_no_ylimit\"\n",
    "    fig.suptitle(figtitle, fontsize=text_size*3)\n",
    "    cumulative_plot(axs, acc_7, daily_goals, limit_y=False)\n",
    "    plt.savefig(f\"plots/{figtitle}.svg\", facecolor='white', transparent=False, bbox_inches='tight')\n",
    "    \n",
    "    if show_plot:\n",
    "        plt.show()"
   ]
  },
  {
   "cell_type": "code",
   "execution_count": 14,
   "id": "860608b8-0adc-4783-9f43-29ec21699eb4",
   "metadata": {},
   "outputs": [],
   "source": [
    "def goal_plot(axs, daily_goals, acc):\n",
    "    text_size = 14\n",
    "    red_percent = 5\n",
    "    y_pos = np.arange(len(daily_goals))\n",
    "    d_acc = dict(acc)\n",
    "    percents = [max(d_acc.get(name, 0) / seconds * 100, 1) for _,name,seconds in daily_goals]\n",
    "    general_axis(axs)\n",
    "    axs.grid(axis='x')\n",
    "    color = []\n",
    "    for p in percents:\n",
    "        color.append('red' if p < red_percent else ('orange' if p < 100 else 'lime'))\n",
    "    axs.barh(y_pos, percents, color=color)\n",
    "    axs.tick_params(axis='x', labelsize=text_size)\n",
    "    axs.set_yticks(y_pos, labels=[name for _,name,_ in daily_goals], size=text_size)\n",
    "    axs.axvline(red_percent, color='orange')\n",
    "    axs.axvline(100, color='green')\n",
    "    axs.set_xlim(0, 115)\n",
    "    for y, (_,name,target) in zip(y_pos, daily_goals):\n",
    "        axs.text(3, y, f\"{dt.timedelta(seconds=d_acc.get(name, 0))} / {dt.timedelta(seconds=target)}\", \n",
    "                 size=text_size, va='center')\n",
    "    return axs\n",
    "\n",
    "def generate_goal_plot(acc_7, show_plot=True):\n",
    "    scale = 1.5\n",
    "    text_size = 14\n",
    "    fig, axs = plt.subplots(3, 2, figsize=(17*scale, 9*scale))\n",
    "    figtitle = \"1_goals\"\n",
    "    fig.suptitle(figtitle, fontsize=text_size*3)\n",
    "    axs = axs.flatten()\n",
    "    for i, a in enumerate(reversed(acc_7[1:])):\n",
    "        goal_plot(axs[i], daily_goals, a)\n",
    "        date = datetime.now() - dt.timedelta(i)\n",
    "        axs[i].set_title(date.strftime('%Y-%m-%d %A'))\n",
    "    plt.savefig(f\"plots/{figtitle}.svg\", facecolor='white', transparent=False, bbox_inches='tight')\n",
    "    if show_plot:\n",
    "        plt.show()"
   ]
  },
  {
   "cell_type": "code",
   "execution_count": 15,
   "id": "3e05576c-b51c-473d-9f5f-03b1b390dab7",
   "metadata": {},
   "outputs": [],
   "source": [
    "def bar(ax, data):\n",
    "    ax.grid(axis='y')\n",
    "    ax.set_axisbelow(True)\n",
    "    for j, d in enumerate(data): \n",
    "        height = 0\n",
    "        cmap = plt.cm.get_cmap('hsv', len(d))\n",
    "        inverse_shrink = 5\n",
    "        for i, (x,y) in enumerate(reversed(d)):\n",
    "            y_scaled = y/(60*60)\n",
    "            new_height = height + y_scaled\n",
    "            ax.bar(j, height=y_scaled, tick_label='Today', alpha=1, color=cmap(i), bottom=height, edgecolor='black')\n",
    "            ax.text(j, new_height, str(dt.timedelta(seconds=y)) + ' ' + x, va='top', ha='center', size=8)\n",
    "            height = new_height\n",
    "    return ax\n",
    "\n",
    "def generate_bars(acc_7, acc_7_nosleep, show_plot=True):\n",
    "    text_size = 14\n",
    "    scale = 1.5*1.41\n",
    "    fig, axs = plt.subplots(1,1,figsize=(16*scale,9*scale))\n",
    "    figtitle = \"2_bar_1\"\n",
    "    fig.suptitle(figtitle, fontsize=text_size*3)\n",
    "    bar(axs, acc_7)\n",
    "    axs.axhline(24, color='red')\n",
    "    plt.savefig(f\"plots/{figtitle}.svg\", facecolor='white', transparent=False, bbox_inches='tight')\n",
    "    if show_plot:\n",
    "        plt.show()\n",
    "\n",
    "    fig, axs = plt.subplots(1,1,figsize=(16*scale,9*scale))\n",
    "    figtitle = \"2_bar_2_no-sleep\"\n",
    "    fig.suptitle(figtitle, fontsize=text_size*3)\n",
    "    bar(axs, acc_7_nosleep)\n",
    "    plt.savefig(f\"plots/{figtitle}.svg\", facecolor='white', transparent=False, bbox_inches='tight')\n",
    "    if show_plot:\n",
    "        plt.show()"
   ]
  },
  {
   "cell_type": "code",
   "execution_count": 16,
   "id": "30ab8ee5-3eba-4fb8-bc65-b2adf3c5e58f",
   "metadata": {},
   "outputs": [],
   "source": [
    "def pie(ax, data):\n",
    "    names, sizes = [x[0] for x in data], [x[1] for x in data]\n",
    "    names = [f\"{name} {math.floor(size / (60*60))}:{math.floor(size / 60 % 60):02}\" for name, size in zip(names, sizes)]\n",
    "    ax.pie(sizes, labels=names, autopct='%1.1f%%',\n",
    "            shadow=True, startangle=180-45, explode=0.05 * np.random.rand(len(data)))\n",
    "    return ax\n",
    "\n",
    "def generate_pies(acc_7, acc_7_nosleep, show_plot=True):\n",
    "    text_size = 14\n",
    "    fig, axs = plt.subplots(1,1,figsize=(20,20))\n",
    "    figtitle = \"3_pie_1\"\n",
    "    fig.suptitle(figtitle, fontsize=text_size*3)\n",
    "    pie(axs, acc_7[-1])\n",
    "    plt.savefig(f\"plots/{figtitle}.svg\", facecolor='white', transparent=False, bbox_inches='tight')\n",
    "    if show_plot:\n",
    "        plt.show()\n",
    "\n",
    "    fig, axs = plt.subplots(1,1,figsize=(20,20))\n",
    "    figtitle = \"3_pie_2_no-sleep\"\n",
    "    fig.suptitle(figtitle, fontsize=text_size*3)\n",
    "    pie(axs, acc_7_nosleep[-1])\n",
    "    plt.savefig(f\"plots/{figtitle}.svg\", facecolor='white', transparent=False, bbox_inches='tight')\n",
    "    if show_plot:\n",
    "        plt.show()"
   ]
  },
  {
   "cell_type": "code",
   "execution_count": 17,
   "id": "cd894b20-3729-4744-a1c6-5f0bb14daf76",
   "metadata": {},
   "outputs": [],
   "source": [
    "pickle_file = 'acc_7.pickle'"
   ]
  },
  {
   "cell_type": "code",
   "execution_count": 18,
   "id": "0049ba35-a8d1-478c-864e-8e26ea264678",
   "metadata": {},
   "outputs": [],
   "source": [
    "def fetch_single(msg='fetch time'):\n",
    "    acc_7 = n_acc(7)\n",
    "    with open(pickle_file, 'wb') as f:\n",
    "        pickle.dump(acc_7, f)\n",
    "    print(f\"{msg}: {datetime.now()}\")\n",
    "\n",
    "def fetch_loop():\n",
    "    WAIT = config['seconds_between_fetches']\n",
    "    while True:\n",
    "        try:\n",
    "            fetch_single('loop fetch time')\n",
    "        except ConnectionError:\n",
    "            print(f\"Connection error.\")\n",
    "        print(f\"Fetch loop Sleeping {WAIT}s\")\n",
    "        time.sleep(WAIT)"
   ]
  },
  {
   "cell_type": "code",
   "execution_count": 19,
   "id": "4ec4e706-841d-4c8f-aae7-7ebf98f90c32",
   "metadata": {},
   "outputs": [],
   "source": [
    "SHOW_PLOTS = False\n",
    "\n",
    "def generate_all_plots():\n",
    "    with open(pickle_file, 'rb') as f:\n",
    "        acc_7 = pickle.load(f)\n",
    "    acc_7_nosleep = filter_sleep(acc_7)\n",
    "    \n",
    "    generate_cumulative_plot(acc_7, show_plot=SHOW_PLOTS)\n",
    "    generate_goal_plot(acc_7, show_plot=SHOW_PLOTS)\n",
    "    generate_pies(acc_7, acc_7_nosleep, show_plot=SHOW_PLOTS)\n",
    "    generate_bars(acc_7, acc_7_nosleep, show_plot=SHOW_PLOTS)\n",
    "    print(f\"render done: {datetime.now()}\")"
   ]
  },
  {
   "cell_type": "code",
   "execution_count": 20,
   "id": "f72479a4-3f70-4f6a-9fa1-c0de868e10fa",
   "metadata": {},
   "outputs": [],
   "source": [
    "def gen_fetch_gen():\n",
    "    generate_all_plots()\n",
    "    fetch_single()\n",
    "    generate_all_plots()"
   ]
  },
  {
   "cell_type": "code",
   "execution_count": 21,
   "id": "503089eb-2dd4-4f70-a58b-5758438fb63a",
   "metadata": {},
   "outputs": [
    {
     "name": "stdout",
     "output_type": "stream",
     "text": [
      "Fetch loop started\n",
      "Server waiting for connections\n",
      "loop fetch time: 2022-12-10 20:02:48.233350\n"
     ]
    },
    {
     "name": "stderr",
     "output_type": "stream",
     "text": [
      "Process Process-1:\n",
      "Traceback (most recent call last):\n",
      "  File \"/usr/lib/python3.10/multiprocessing/process.py\", line 314, in _bootstrap\n",
      "    self.run()\n",
      "  File \"/usr/lib/python3.10/multiprocessing/process.py\", line 108, in run\n",
      "    self._target(*self._args, **self._kwargs)\n",
      "  File \"/tmp/ipykernel_617898/1966742921.py\", line 15, in fetch_loop\n",
      "    time.sleep(WAIT)\n",
      "KeyboardInterrupt\n"
     ]
    },
    {
     "ename": "KeyboardInterrupt",
     "evalue": "",
     "output_type": "error",
     "traceback": [
      "\u001b[0;31m---------------------------------------------------------------------------\u001b[0m",
      "\u001b[0;31mKeyboardInterrupt\u001b[0m                         Traceback (most recent call last)",
      "\u001b[0;32m/tmp/ipykernel_617898/2032196957.py\u001b[0m in \u001b[0;36m<module>\u001b[0;34m\u001b[0m\n\u001b[1;32m     14\u001b[0m \u001b[0;34m\u001b[0m\u001b[0m\n\u001b[1;32m     15\u001b[0m     \u001b[0;32mwhile\u001b[0m \u001b[0;32mTrue\u001b[0m\u001b[0;34m:\u001b[0m\u001b[0;34m\u001b[0m\u001b[0;34m\u001b[0m\u001b[0m\n\u001b[0;32m---> 16\u001b[0;31m         \u001b[0mclient_connection\u001b[0m\u001b[0;34m,\u001b[0m \u001b[0mclinet_address\u001b[0m \u001b[0;34m=\u001b[0m \u001b[0msock\u001b[0m\u001b[0;34m.\u001b[0m\u001b[0maccept\u001b[0m\u001b[0;34m(\u001b[0m\u001b[0;34m)\u001b[0m\u001b[0;34m\u001b[0m\u001b[0;34m\u001b[0m\u001b[0m\n\u001b[0m\u001b[1;32m     17\u001b[0m         \u001b[0mcommand\u001b[0m \u001b[0;34m=\u001b[0m \u001b[0mclient_connection\u001b[0m\u001b[0;34m.\u001b[0m\u001b[0mrecv\u001b[0m\u001b[0;34m(\u001b[0m\u001b[0;36m1024\u001b[0m\u001b[0;34m)\u001b[0m\u001b[0;34m.\u001b[0m\u001b[0mdecode\u001b[0m\u001b[0;34m(\u001b[0m\u001b[0;34m'UTF-8'\u001b[0m\u001b[0;34m)\u001b[0m\u001b[0;34m\u001b[0m\u001b[0;34m\u001b[0m\u001b[0m\n\u001b[1;32m     18\u001b[0m         \u001b[0mprint\u001b[0m\u001b[0;34m(\u001b[0m\u001b[0;34mf\"received: {command}\"\u001b[0m\u001b[0;34m)\u001b[0m\u001b[0;34m\u001b[0m\u001b[0;34m\u001b[0m\u001b[0m\n",
      "\u001b[0;32m/usr/lib/python3.10/socket.py\u001b[0m in \u001b[0;36maccept\u001b[0;34m(self)\u001b[0m\n\u001b[1;32m    291\u001b[0m         \u001b[0mFor\u001b[0m \u001b[0mIP\u001b[0m \u001b[0msockets\u001b[0m\u001b[0;34m,\u001b[0m \u001b[0mthe\u001b[0m \u001b[0maddress\u001b[0m \u001b[0minfo\u001b[0m \u001b[0;32mis\u001b[0m \u001b[0ma\u001b[0m \u001b[0mpair\u001b[0m \u001b[0;34m(\u001b[0m\u001b[0mhostaddr\u001b[0m\u001b[0;34m,\u001b[0m \u001b[0mport\u001b[0m\u001b[0;34m)\u001b[0m\u001b[0;34m.\u001b[0m\u001b[0;34m\u001b[0m\u001b[0;34m\u001b[0m\u001b[0m\n\u001b[1;32m    292\u001b[0m         \"\"\"\n\u001b[0;32m--> 293\u001b[0;31m         \u001b[0mfd\u001b[0m\u001b[0;34m,\u001b[0m \u001b[0maddr\u001b[0m \u001b[0;34m=\u001b[0m \u001b[0mself\u001b[0m\u001b[0;34m.\u001b[0m\u001b[0m_accept\u001b[0m\u001b[0;34m(\u001b[0m\u001b[0;34m)\u001b[0m\u001b[0;34m\u001b[0m\u001b[0;34m\u001b[0m\u001b[0m\n\u001b[0m\u001b[1;32m    294\u001b[0m         \u001b[0msock\u001b[0m \u001b[0;34m=\u001b[0m \u001b[0msocket\u001b[0m\u001b[0;34m(\u001b[0m\u001b[0mself\u001b[0m\u001b[0;34m.\u001b[0m\u001b[0mfamily\u001b[0m\u001b[0;34m,\u001b[0m \u001b[0mself\u001b[0m\u001b[0;34m.\u001b[0m\u001b[0mtype\u001b[0m\u001b[0;34m,\u001b[0m \u001b[0mself\u001b[0m\u001b[0;34m.\u001b[0m\u001b[0mproto\u001b[0m\u001b[0;34m,\u001b[0m \u001b[0mfileno\u001b[0m\u001b[0;34m=\u001b[0m\u001b[0mfd\u001b[0m\u001b[0;34m)\u001b[0m\u001b[0;34m\u001b[0m\u001b[0;34m\u001b[0m\u001b[0m\n\u001b[1;32m    295\u001b[0m         \u001b[0;31m# Issue #7995: if no default timeout is set and the listening\u001b[0m\u001b[0;34m\u001b[0m\u001b[0;34m\u001b[0m\u001b[0m\n",
      "\u001b[0;31mKeyboardInterrupt\u001b[0m: "
     ]
    }
   ],
   "source": [
    "class commands:\n",
    "    fetch = 'fetch'\n",
    "    fetch_loop = 'fetch-loop'\n",
    "    render = 'render'\n",
    "    show = 'show'\n",
    "    \n",
    "fetch_loop_p = Process(target=fetch_loop)\n",
    "fetch_loop_p.start()\n",
    "print(\"Fetch loop started\")\n",
    "\n",
    "with socket.socket() as sock:\n",
    "    sock.bind((config['ip'], config['port']))\n",
    "    sock.listen()\n",
    "    print(\"Server waiting for connections\")\n",
    "\n",
    "    while True:\n",
    "        client_connection, clinet_address = sock.accept()\n",
    "        command = client_connection.recv(1024).decode('UTF-8')\n",
    "        print(f\"received: {command}\")\n",
    "        # TODO This does not work as intended\n",
    "        if command == commands.fetch_loop:\n",
    "            if fetch_loop_p.is_alive():\n",
    "                fetch_loop_p.kill()\n",
    "                msg = \"Fetch loop terminated\"\n",
    "            else:\n",
    "                fetch_loop_p = Process(target=fetch_loop)\n",
    "                fetch_loop_p.start()\n",
    "                msg = \"Fetch loop terminated\"\n",
    "        elif command == commands.show:\n",
    "            p = Process(target=gen_fetch_gen)\n",
    "            p.start()\n",
    "            msg = \"Showing plots\"\n",
    "        elif command == commands.fetch:\n",
    "            p = Process(target=fetch_single)\n",
    "            p.start()\n",
    "            msg = \"Singe Fetch started\"\n",
    "        elif command == commands.render:\n",
    "            p = Process(target=generate_all_plots)\n",
    "            p.start()\n",
    "            msg = \"Render started\"\n",
    "        else:\n",
    "            msg = f\"'{command}' is not a valid command.\\n\" \\\n",
    "                   \"Valid commands are 'fetch', 'fetch-loop', 'show', 'render'.\"\n",
    "        print('sending:', msg)\n",
    "        client_connection.send(msg.encode())"
   ]
  },
  {
   "cell_type": "code",
   "execution_count": null,
   "id": "c52eb80b-ed26-47c6-8073-7d2bdd215af6",
   "metadata": {},
   "outputs": [],
   "source": []
  },
  {
   "cell_type": "code",
   "execution_count": null,
   "id": "49c01869-cd22-4915-a5a5-c0ab2355440a",
   "metadata": {},
   "outputs": [],
   "source": []
  }
 ],
 "metadata": {
  "kernelspec": {
   "display_name": "Python 3 (ipykernel)",
   "language": "python",
   "name": "python3"
  },
  "language_info": {
   "codemirror_mode": {
    "name": "ipython",
    "version": 3
   },
   "file_extension": ".py",
   "mimetype": "text/x-python",
   "name": "python",
   "nbconvert_exporter": "python",
   "pygments_lexer": "ipython3",
   "version": "3.10.6"
  }
 },
 "nbformat": 4,
 "nbformat_minor": 5
}
