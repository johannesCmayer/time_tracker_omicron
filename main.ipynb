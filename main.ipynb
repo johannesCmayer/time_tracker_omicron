{
 "cells": [
  {
   "cell_type": "markdown",
   "id": "65d53a2e-5761-49ab-bed5-f731a4c1c06a",
   "metadata": {},
   "source": [
    "API safe request rate is limit 1 request per second."
   ]
  },
  {
   "cell_type": "code",
   "execution_count": 1,
   "id": "c4c90532-87f3-4409-a1a9-c4ee58b26d99",
   "metadata": {},
   "outputs": [
    {
     "name": "stdout",
     "output_type": "stream",
     "text": [
      "Defaulting to user installation because normal site-packages is not writeable\n",
      "Requirement already satisfied: requests in /usr/lib/python3/dist-packages (2.25.1)\n",
      "Defaulting to user installation because normal site-packages is not writeable\n",
      "Requirement already satisfied: diskcache in /home/johannes/.local/lib/python3.10/site-packages (5.4.0)\n"
     ]
    }
   ],
   "source": [
    "!pip install requests\n",
    "!pip install diskcache"
   ]
  },
  {
   "cell_type": "code",
   "execution_count": 2,
   "id": "a5ead08a-21a9-4432-876b-6ba0ef9fa4b2",
   "metadata": {},
   "outputs": [],
   "source": [
    "import requests\n",
    "import base64\n",
    "import json\n",
    "import os\n",
    "from datetime import datetime\n",
    "import pytz\n",
    "import diskcache\n",
    "import urllib.parse"
   ]
  },
  {
   "cell_type": "code",
   "execution_count": 3,
   "id": "11326582-e5ad-44c6-ab65-bf94a6c61f41",
   "metadata": {},
   "outputs": [],
   "source": [
    "start_date = datetime.fromisoformat('2019-01-01T11:11:11+00:00')\n",
    "now_date = datetime.utcnow().replace(tzinfo=pytz.utc)\n",
    "last_update_date = None"
   ]
  },
  {
   "cell_type": "code",
   "execution_count": 4,
   "id": "ed937ef4-e4f8-4fae-8b57-70f017cf0025",
   "metadata": {},
   "outputs": [],
   "source": [
    "project_dir = os.path.abspath('')\n",
    "\n",
    "API = {\n",
    "    \"time_entries\" : \"https://api.track.toggl.com/api/v9/me/time_entries\",\n",
    "    \"get_current_time_entry\": \"https://api.track.toggl.com/api/v9/me/time_entries/current\", \n",
    "    \"me_info\" : \"https://api.track.toggl.com/api/v9/me\",\n",
    "    \"projects_me\" : \"https://api.track.toggl.com/api/v9/me/projects\",\n",
    "    \"projects_ws\" : \"https://api.track.toggl.com/api/v9/workspaces/4143224/projects\",\n",
    "    \"workspaces\" : \"https://api.track.toggl.com/api/v9/workspaces\",\n",
    "}\n",
    "\n",
    "with open(f\"{project_dir}/api_key.txt\") as f:\n",
    "    API_token = f\"{f.read()}:api_token\"\n",
    "API_token_base64 = base64.b64encode(API_token.encode('ascii')).decode('ascii')"
   ]
  },
  {
   "cell_type": "code",
   "execution_count": 5,
   "id": "4e1985c3-4418-4e10-a164-0f61bd4e2641",
   "metadata": {},
   "outputs": [
    {
     "data": {
      "text/plain": [
       "0"
      ]
     },
     "execution_count": 5,
     "metadata": {},
     "output_type": "execute_result"
    }
   ],
   "source": [
    "project_id_names = diskcache.Cache(f\"{project_dir}/project_id_names.cache\")\n",
    "project_id_names.clear()"
   ]
  },
  {
   "cell_type": "code",
   "execution_count": 6,
   "id": "cad3c75b-3152-4d01-9c97-0c0508633986",
   "metadata": {
    "tags": []
   },
   "outputs": [],
   "source": [
    "def fetch(url, headers={}):\n",
    "    headers={\"Content-Type\": \"application/json\", \n",
    "                                    \"Host\": \"api.track.toggl.com\",\n",
    "                                    \"authorization\": f\"Basic {API_token_base64}\", \n",
    "                                    **headers}\n",
    "    r = requests.get(url, headers=headers)\n",
    "    return json.loads(r.content.decode('utf-8'))"
   ]
  },
  {
   "cell_type": "code",
   "execution_count": 7,
   "id": "c85cc75a-b3a8-410c-a952-15ab587b5774",
   "metadata": {},
   "outputs": [],
   "source": [
    "def fetch_project(project_id):\n",
    "    return fetch(f\"{API['projects_ws']}/{project_id}\")"
   ]
  },
  {
   "cell_type": "code",
   "execution_count": 8,
   "id": "09e8e254-0a84-4398-9341-8a8d6a20e60a",
   "metadata": {},
   "outputs": [],
   "source": [
    "def filter_dict(d, keys):\n",
    "    return list(map(lambda x: {k: v for k, v in x.items() if k in keys}, d))"
   ]
  },
  {
   "cell_type": "code",
   "execution_count": 36,
   "id": "7732a465-d9db-448e-a66e-4de525be6cdf",
   "metadata": {},
   "outputs": [],
   "source": [
    "def get_time_entries(start_date=now_date, end_date=now_date):\n",
    "    url_exts = '?'\n",
    "    url_exts += f\"start_date={urllib.parse.quote('2022-11-10T00:53:28-02:00')}\"\n",
    "    url_exts += f\"&end_date={urllib.parse.quote('2022-11-10T00:53:28-02:00')}\"\n",
    "    print(url_exts)\n",
    "    time_entries = fetch(API['time_entries'] + url_exts)\n",
    "    \n",
    "    print('time_entries:', time_entries)\n",
    "    \n",
    "    for time_entry in time_entries:\n",
    "        print(time_entry)\n",
    "        print(type(time_entry))\n",
    "        print(time_entry['project_id'])\n",
    "        project_id = time_entry['project_id']\n",
    "        if project_id not in project_id_names:\n",
    "            project_id_names[project_id] = fetch_project(project_id)\n",
    "            print('yoyo')\n",
    "        time_entry['project_name'] = project_id_names[project_id]['name']\n",
    "        \n",
    "    return time_entries"
   ]
  },
  {
   "cell_type": "code",
   "execution_count": 37,
   "id": "fd20f2b3-ce13-4265-8b14-59341ca9c856",
   "metadata": {},
   "outputs": [],
   "source": [
    "def update_current_time_entry_duration(time_entry):\n",
    "    time_entry[\"duration\"] = (datetime.utcnow().replace(tzinfo=pytz.utc) - \\\n",
    "                              datetime.fromisoformat(time_entry[\"start\"])).seconds\n",
    "    return time_entry"
   ]
  },
  {
   "cell_type": "code",
   "execution_count": 38,
   "id": "0049ba35-a8d1-478c-864e-8e26ea264678",
   "metadata": {},
   "outputs": [
    {
     "name": "stdout",
     "output_type": "stream",
     "text": [
      "2022-11-10T23:53:28+00:00\n",
      "?start_date=2022-11-10T00%3A53%3A28-02%3A00&end_date=2022-11-10T00%3A53%3A28-02%3A00\n",
      "time_entries: error parsing date 2022-11-10T00:53:28-02:00\n",
      "e\n",
      "<class 'str'>\n"
     ]
    },
    {
     "ename": "TypeError",
     "evalue": "string indices must be integers",
     "output_type": "error",
     "traceback": [
      "\u001b[0;31m---------------------------------------------------------------------------\u001b[0m",
      "\u001b[0;31mTypeError\u001b[0m                                 Traceback (most recent call last)",
      "\u001b[0;32m/tmp/ipykernel_11545/751455728.py\u001b[0m in \u001b[0;36m<module>\u001b[0;34m\u001b[0m\n\u001b[1;32m      2\u001b[0m \u001b[0mend_date\u001b[0m \u001b[0;34m=\u001b[0m \u001b[0mdatetime\u001b[0m\u001b[0;34m.\u001b[0m\u001b[0mfromisoformat\u001b[0m\u001b[0;34m(\u001b[0m\u001b[0;34m'2022-11-13T23:53:28+00:00'\u001b[0m\u001b[0;34m)\u001b[0m\u001b[0;34m\u001b[0m\u001b[0;34m\u001b[0m\u001b[0m\n\u001b[1;32m      3\u001b[0m \u001b[0mprint\u001b[0m\u001b[0;34m(\u001b[0m\u001b[0mstart_date\u001b[0m\u001b[0;34m.\u001b[0m\u001b[0misoformat\u001b[0m\u001b[0;34m(\u001b[0m\u001b[0;34m)\u001b[0m\u001b[0;34m)\u001b[0m\u001b[0;34m\u001b[0m\u001b[0;34m\u001b[0m\u001b[0m\n\u001b[0;32m----> 4\u001b[0;31m \u001b[0mget_time_entries\u001b[0m\u001b[0;34m(\u001b[0m\u001b[0mstart_date\u001b[0m\u001b[0;34m,\u001b[0m \u001b[0mend_date\u001b[0m\u001b[0;34m)\u001b[0m\u001b[0;34m[\u001b[0m\u001b[0;34m-\u001b[0m\u001b[0;36m1\u001b[0m\u001b[0;34m]\u001b[0m\u001b[0;34m\u001b[0m\u001b[0;34m\u001b[0m\u001b[0m\n\u001b[0m",
      "\u001b[0;32m/tmp/ipykernel_11545/1329863079.py\u001b[0m in \u001b[0;36mget_time_entries\u001b[0;34m(start_date, end_date)\u001b[0m\n\u001b[1;32m     11\u001b[0m         \u001b[0mprint\u001b[0m\u001b[0;34m(\u001b[0m\u001b[0mtime_entry\u001b[0m\u001b[0;34m)\u001b[0m\u001b[0;34m\u001b[0m\u001b[0;34m\u001b[0m\u001b[0m\n\u001b[1;32m     12\u001b[0m         \u001b[0mprint\u001b[0m\u001b[0;34m(\u001b[0m\u001b[0mtype\u001b[0m\u001b[0;34m(\u001b[0m\u001b[0mtime_entry\u001b[0m\u001b[0;34m)\u001b[0m\u001b[0;34m)\u001b[0m\u001b[0;34m\u001b[0m\u001b[0;34m\u001b[0m\u001b[0m\n\u001b[0;32m---> 13\u001b[0;31m         \u001b[0mprint\u001b[0m\u001b[0;34m(\u001b[0m\u001b[0mtime_entry\u001b[0m\u001b[0;34m[\u001b[0m\u001b[0;34m'project_id'\u001b[0m\u001b[0;34m]\u001b[0m\u001b[0;34m)\u001b[0m\u001b[0;34m\u001b[0m\u001b[0;34m\u001b[0m\u001b[0m\n\u001b[0m\u001b[1;32m     14\u001b[0m         \u001b[0mproject_id\u001b[0m \u001b[0;34m=\u001b[0m \u001b[0mtime_entry\u001b[0m\u001b[0;34m[\u001b[0m\u001b[0;34m'project_id'\u001b[0m\u001b[0;34m]\u001b[0m\u001b[0;34m\u001b[0m\u001b[0;34m\u001b[0m\u001b[0m\n\u001b[1;32m     15\u001b[0m         \u001b[0;32mif\u001b[0m \u001b[0mproject_id\u001b[0m \u001b[0;32mnot\u001b[0m \u001b[0;32min\u001b[0m \u001b[0mproject_id_names\u001b[0m\u001b[0;34m:\u001b[0m\u001b[0;34m\u001b[0m\u001b[0;34m\u001b[0m\u001b[0m\n",
      "\u001b[0;31mTypeError\u001b[0m: string indices must be integers"
     ]
    }
   ],
   "source": [
    "start_date = datetime.fromisoformat('2022-11-10T23:53:28.000000+00:00')\n",
    "end_date = datetime.fromisoformat('2022-11-13T23:53:28+00:00')\n",
    "print(start_date.isoformat())\n",
    "get_time_entries(start_date, end_date)[-1]"
   ]
  },
  {
   "cell_type": "code",
   "execution_count": null,
   "id": "42ae8855-f389-4173-80c2-0d10a549c7ab",
   "metadata": {},
   "outputs": [],
   "source": []
  }
 ],
 "metadata": {
  "kernelspec": {
   "display_name": "Python 3 (ipykernel)",
   "language": "python",
   "name": "python3"
  },
  "language_info": {
   "codemirror_mode": {
    "name": "ipython",
    "version": 3
   },
   "file_extension": ".py",
   "mimetype": "text/x-python",
   "name": "python",
   "nbconvert_exporter": "python",
   "pygments_lexer": "ipython3",
   "version": "3.10.6"
  }
 },
 "nbformat": 4,
 "nbformat_minor": 5
}
