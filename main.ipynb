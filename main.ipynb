{
 "cells": [
  {
   "cell_type": "markdown",
   "id": "65d53a2e-5761-49ab-bed5-f731a4c1c06a",
   "metadata": {},
   "source": [
    "API safe request rate is limit 1 request per second."
   ]
  },
  {
   "cell_type": "code",
   "execution_count": 1,
   "id": "c4c90532-87f3-4409-a1a9-c4ee58b26d99",
   "metadata": {},
   "outputs": [
    {
     "name": "stdout",
     "output_type": "stream",
     "text": [
      "Defaulting to user installation because normal site-packages is not writeable\n",
      "Requirement already satisfied: requests in /usr/lib/python3/dist-packages (2.25.1)\n",
      "Defaulting to user installation because normal site-packages is not writeable\n",
      "Requirement already satisfied: diskcache in /home/johannes/.local/lib/python3.10/site-packages (5.4.0)\n"
     ]
    }
   ],
   "source": [
    "!pip install requests\n",
    "!pip install diskcache"
   ]
  },
  {
   "cell_type": "code",
   "execution_count": 13,
   "id": "a5ead08a-21a9-4432-876b-6ba0ef9fa4b2",
   "metadata": {},
   "outputs": [],
   "source": [
    "import requests\n",
    "import base64\n",
    "import json\n",
    "import os\n",
    "from datetime import datetime\n",
    "import pytz\n",
    "import diskcache\n",
    "import urllib.parse\n",
    "from matplotlib import pyplot as plt"
   ]
  },
  {
   "cell_type": "code",
   "execution_count": 14,
   "id": "ed937ef4-e4f8-4fae-8b57-70f017cf0025",
   "metadata": {},
   "outputs": [],
   "source": [
    "project_dir = os.path.abspath('')\n",
    "\n",
    "API_version = 'v9'\n",
    "prefix = f\"https://api.track.toggl.com/api/\"\n",
    "\n",
    "API = {\n",
    "    \"time_entries\" :          prefix + \"v8\" + \"/time_entries\",\n",
    "    \"get_current_time_entry\": prefix + API_version + \"/me/time_entries/current\", \n",
    "    \"me_info\" :               prefix + API_version + \"/me\",\n",
    "    \"projects_me\" :           prefix + API_version + \"/me/projects\",\n",
    "    \"projects_ws\" :           prefix + API_version + \"/workspaces/4143224/projects\",\n",
    "    \"workspaces\" :            prefix + API_version + \"/workspaces\",\n",
    "}\n",
    "\n",
    "with open(f\"{project_dir}/api_key.txt\") as f:\n",
    "    API_token = f\"{f.read()}:api_token\"\n",
    "API_token_base64 = base64.b64encode(API_token.encode('ascii')).decode('ascii')"
   ]
  },
  {
   "cell_type": "code",
   "execution_count": 15,
   "id": "4e1985c3-4418-4e10-a164-0f61bd4e2641",
   "metadata": {},
   "outputs": [
    {
     "data": {
      "text/plain": [
       "8"
      ]
     },
     "execution_count": 15,
     "metadata": {},
     "output_type": "execute_result"
    }
   ],
   "source": [
    "project_id_names = diskcache.Cache(f\"{project_dir}/project_id_names.cache\")\n",
    "project_id_names.clear()"
   ]
  },
  {
   "cell_type": "code",
   "execution_count": 16,
   "id": "cad3c75b-3152-4d01-9c97-0c0508633986",
   "metadata": {
    "tags": []
   },
   "outputs": [],
   "source": [
    "def fetch(url, headers={}):\n",
    "    headers={\"Content-Type\": \"application/json\", \n",
    "                                    \"Host\": \"api.track.toggl.com\",\n",
    "                                    \"authorization\": f\"Basic {API_token_base64}\", \n",
    "                                    **headers}\n",
    "    r = requests.get(url, headers=headers)\n",
    "    return json.loads(r.content.decode('utf-8'))"
   ]
  },
  {
   "cell_type": "code",
   "execution_count": 17,
   "id": "c85cc75a-b3a8-410c-a952-15ab587b5774",
   "metadata": {},
   "outputs": [],
   "source": [
    "def fetch_project(project_id):\n",
    "    return fetch(f\"{API['projects_ws']}/{project_id}\")"
   ]
  },
  {
   "cell_type": "code",
   "execution_count": 18,
   "id": "09e8e254-0a84-4398-9341-8a8d6a20e60a",
   "metadata": {},
   "outputs": [],
   "source": [
    "def filter_dict(d, keys):\n",
    "    return list(map(lambda x: {k: v for k, v in x.items() if k in keys}, d))"
   ]
  },
  {
   "cell_type": "code",
   "execution_count": 19,
   "id": "7732a465-d9db-448e-a66e-4de525be6cdf",
   "metadata": {},
   "outputs": [],
   "source": [
    "def get_time_entries(start_date, end_date):\n",
    "    date_to_str = lambda date: date.strftime('%Y-%m-%dT%H:%M:%S') + f'{date.strftime(\"%z\")[:3]}:{date.strftime(\"%z\")[3:]}'\n",
    "    url_exts = '?'\n",
    "    url_exts += f\"start_date={urllib.parse.quote(date_to_str(start_date))}\"\n",
    "    url_exts += f\"&end_date={urllib.parse.quote(date_to_str(end_date))}\"\n",
    "    time_entries = fetch(API['time_entries'] + url_exts)\n",
    "        \n",
    "    for time_entry in time_entries:\n",
    "        print(time_entries)\n",
    "        project_id = time_entry['pid']\n",
    "        if project_id not in project_id_names:\n",
    "            project_id_names[project_id] = fetch_project(project_id)\n",
    "        time_entry['project_name'] = project_id_names[project_id]['name']\n",
    "        \n",
    "    return time_entries"
   ]
  },
  {
   "cell_type": "code",
   "execution_count": 20,
   "id": "fd20f2b3-ce13-4265-8b14-59341ca9c856",
   "metadata": {},
   "outputs": [],
   "source": [
    "def update_current_time_entry_duration(time_entry):\n",
    "    time_entry[\"duration\"] = (datetime.utcnow().replace(tzinfo=pytz.utc) - \\\n",
    "                              datetime.fromisoformat(time_entry[\"start\"])).seconds\n",
    "    return time_entry\n",
    "\n",
    "def get_day_entries():\n",
    "    pass\n",
    "\n",
    "def get_week_entries():\n",
    "    pass\n",
    "\n",
    "def get_month_entries():\n",
    "    pass\n",
    "\n",
    "def get_last_n_days():\n",
    "    pass"
   ]
  },
  {
   "cell_type": "code",
   "execution_count": null,
   "id": "0049ba35-a8d1-478c-864e-8e26ea264678",
   "metadata": {},
   "outputs": [
    {
     "name": "stdout",
     "output_type": "stream",
     "text": [
      "[{'id': 2723808956, 'guid': 'c8fd6d381a112a7d2d1408de530f86ab', 'wid': 4143224, 'pid': 186239363, 'billable': False, 'start': '2022-11-10T01:10:39+00:00', 'stop': '2022-11-10T01:28:29+00:00', 'duration': 1070, 'duronly': False, 'at': '2022-11-10T01:28:30+00:00', 'uid': 5591118}, {'id': 2723821046, 'guid': '95a48921ad86c9df794fc31b6f39a7db', 'wid': 4143224, 'pid': 186119188, 'billable': False, 'start': '2022-11-10T01:33:00+00:00', 'stop': '2022-11-10T01:38:40+00:00', 'duration': 340, 'duronly': False, 'at': '2022-11-10T01:38:42+00:00', 'uid': 5591118}, {'id': 2723827884, 'guid': '1e7ad3e75790067bd2e9370ba249b5fe', 'wid': 4143224, 'pid': 163125866, 'billable': False, 'start': '2022-11-10T02:51:00+00:00', 'stop': '2022-11-10T12:51:00+00:00', 'duration': 36000, 'duronly': False, 'at': '2022-11-10T12:52:17+00:00', 'uid': 5591118}, {'id': 2724555632, 'guid': '13c344375b101b3778b192e18cdbace6', 'wid': 4143224, 'pid': 185725569, 'billable': False, 'start': '2022-11-10T11:51:00+00:00', 'stop': '2022-11-10T12:51:33+00:00', 'duration': 3633, 'duronly': False, 'at': '2022-11-10T12:51:34+00:00', 'uid': 5591118}, {'id': 2724554731, 'guid': '6ddc46ae2cea1ea47fbee6451d20dda5', 'wid': 4143224, 'pid': 165296497, 'billable': False, 'start': '2022-11-10T12:39:00+00:00', 'stop': '2022-11-10T12:50:56+00:00', 'duration': 716, 'duronly': False, 'at': '2022-11-10T12:50:59+00:00', 'uid': 5591118}, {'id': 2726525252, 'guid': '678649f8dae4f2227a30239ba398ca0f', 'wid': 4143224, 'pid': 163125874, 'billable': False, 'start': '2022-11-10T12:52:18+00:00', 'stop': '2022-11-10T17:02:45+00:00', 'duration': 15027, 'description': 'nreal air', 'duronly': False, 'at': '2022-11-11T16:25:21+00:00', 'uid': 5591118}, {'id': 2724659899, 'guid': '1c2a3eb1d0271856dd00c6fcc1d6ce87', 'wid': 4143224, 'pid': 165947128, 'billable': False, 'start': '2022-11-10T13:09:41+00:00', 'stop': '2022-11-10T13:49:45+00:00', 'duration': 2404, 'duronly': False, 'at': '2022-11-10T13:50:32+00:00', 'uid': 5591118}, {'id': 2724660287, 'guid': '37e22883a88785d3231d4fc108e3d46c', 'wid': 4143224, 'pid': 165296497, 'billable': False, 'start': '2022-11-10T13:49:51+00:00', 'stop': '2022-11-10T13:56:50+00:00', 'duration': 419, 'duronly': False, 'at': '2022-11-10T13:57:38+00:00', 'uid': 5591118}, {'id': 2726525254, 'guid': 'b397fc0a2ff2a79a68de516be7b33fca', 'wid': 4143224, 'pid': 187084115, 'billable': False, 'start': '2022-11-10T17:02:47+00:00', 'stop': '2022-11-11T00:00:51+00:00', 'duration': 25084, 'duronly': False, 'at': '2022-11-11T16:25:21+00:00', 'uid': 5591118}]\n"
     ]
    }
   ],
   "source": [
    "start_date = datetime.fromisoformat('2022-11-10T01:00:00+00:00')\n",
    "end_date = datetime.fromisoformat('2022-11-10T23:59:59+00:00')\n",
    "get_time_entries(start_date, end_date)"
   ]
  },
  {
   "cell_type": "code",
   "execution_count": null,
   "id": "42ae8855-f389-4173-80c2-0d10a549c7ab",
   "metadata": {},
   "outputs": [],
   "source": []
  },
  {
   "cell_type": "code",
   "execution_count": null,
   "id": "0709e7b8-48c9-422b-b38d-c5667c0c0cc6",
   "metadata": {},
   "outputs": [],
   "source": []
  }
 ],
 "metadata": {
  "kernelspec": {
   "display_name": "Python 3 (ipykernel)",
   "language": "python",
   "name": "python3"
  },
  "language_info": {
   "codemirror_mode": {
    "name": "ipython",
    "version": 3
   },
   "file_extension": ".py",
   "mimetype": "text/x-python",
   "name": "python",
   "nbconvert_exporter": "python",
   "pygments_lexer": "ipython3",
   "version": "3.10.6"
  }
 },
 "nbformat": 4,
 "nbformat_minor": 5
}
