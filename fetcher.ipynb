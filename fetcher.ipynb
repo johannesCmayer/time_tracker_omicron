{
 "cells": [
  {
   "cell_type": "markdown",
   "id": "f0f80628-c9eb-423c-a838-e665c426f8ae",
   "metadata": {},
   "source": [
    "### TODO\n",
    "- Assign projects unique colors and use them everywhere\n",
    "- DONE Setup Keyboard shortcut to view plots\n",
    "- Set up minutely regeneration of plots\n",
    "- Show date in bar plots\n",
    "- Show goals from previous days"
   ]
  },
  {
   "cell_type": "code",
   "execution_count": 1,
   "id": "06e4ba11-9fa0-4f9e-bc88-6f781e0750cd",
   "metadata": {},
   "outputs": [],
   "source": [
    "CLEAR_NAME_CACHE = False"
   ]
  },
  {
   "cell_type": "code",
   "execution_count": 2,
   "id": "a5ead08a-21a9-4432-876b-6ba0ef9fa4b2",
   "metadata": {},
   "outputs": [],
   "source": [
    "import requests\n",
    "import base64\n",
    "import json\n",
    "import os\n",
    "import time\n",
    "import datetime as dt\n",
    "from datetime import datetime, date\n",
    "import pytz\n",
    "import diskcache\n",
    "import urllib.parse\n",
    "from matplotlib import pyplot as plt\n",
    "plt.rcParams.update({'font.family': 'Noto Sans CJK JP'})\n",
    "import numpy as np\n",
    "from operator import itemgetter, attrgetter\n",
    "import pandas as pd\n",
    "from pdb import set_trace\n",
    "from IPython.display import clear_output"
   ]
  },
  {
   "cell_type": "markdown",
   "id": "c93ff84e-7e0b-4c72-b660-12c012b48935",
   "metadata": {
    "tags": []
   },
   "source": [
    "# Functionality"
   ]
  },
  {
   "cell_type": "markdown",
   "id": "ce9a85ad-5d07-41c2-a8af-c579f8b2ebf7",
   "metadata": {
    "jp-MarkdownHeadingCollapsed": true,
    "tags": []
   },
   "source": [
    "## Utils"
   ]
  },
  {
   "cell_type": "code",
   "execution_count": 3,
   "id": "39a82852-a6c6-48be-9e4f-95eb6f03c494",
   "metadata": {},
   "outputs": [],
   "source": [
    "def now():\n",
    "    return datetime.utcnow().replace(tzinfo=pytz.utc)\n",
    "\n",
    "def filter_dict(d, keys):\n",
    "    return list(map(lambda x: {k: v for k, v in x.items() if k in keys}, d))"
   ]
  },
  {
   "cell_type": "markdown",
   "id": "870b2674-0b06-481c-ab7e-728fca3b4b05",
   "metadata": {
    "jp-MarkdownHeadingCollapsed": true,
    "tags": []
   },
   "source": [
    "## Setting up Toggl API\n",
    "Note that a safe API request rate is 1 request per second."
   ]
  },
  {
   "cell_type": "code",
   "execution_count": 4,
   "id": "ed937ef4-e4f8-4fae-8b57-70f017cf0025",
   "metadata": {},
   "outputs": [],
   "source": [
    "project_dir = os.path.abspath('')\n",
    "\n",
    "API_version = 'v9'\n",
    "prefix = f\"https://api.track.toggl.com/api/\"\n",
    "\n",
    "API = {\n",
    "    \"time_entries\" :          prefix + \"v8\" + \"/time_entries\",\n",
    "    \"get_current_time_entry\": prefix + API_version + \"/me/time_entries/current\", \n",
    "    \"me_info\" :               prefix + API_version + \"/me\",\n",
    "    \"projects_me\" :           prefix + API_version + \"/me/projects\",\n",
    "    \"projects_ws\" :           prefix + API_version + \"/workspaces/4143224/projects\",\n",
    "    \"workspaces\" :            prefix + API_version + \"/workspaces\",\n",
    "}\n",
    "\n",
    "with open(f\"{project_dir}/api_key.txt\") as f:\n",
    "    API_token = f\"{f.read()}:api_token\"\n",
    "API_token_base64 = base64.b64encode(API_token.encode('ascii')).decode('ascii')\n",
    "\n",
    "project_id_names = diskcache.Cache(f\"{project_dir}/project_id_names.cache\")\n",
    "if CLEAR_NAME_CACHE:\n",
    "    project_id_names.clear()"
   ]
  },
  {
   "cell_type": "code",
   "execution_count": 5,
   "id": "cad3c75b-3152-4d01-9c97-0c0508633986",
   "metadata": {
    "tags": []
   },
   "outputs": [],
   "source": [
    "def fetch(url, headers={}):\n",
    "    headers={\"Content-Type\": \"application/json\", \n",
    "                                    \"Host\": \"api.track.toggl.com\",\n",
    "                                    \"authorization\": f\"Basic {API_token_base64}\", \n",
    "                                    **headers}\n",
    "    r = requests.get(url, headers=headers)\n",
    "    return json.loads(r.content.decode('utf-8'))\n",
    "\n",
    "def fetch_project(project_id):\n",
    "    return fetch(f\"{API['projects_ws']}/{project_id}\")"
   ]
  },
  {
   "cell_type": "code",
   "execution_count": 6,
   "id": "7732a465-d9db-448e-a66e-4de525be6cdf",
   "metadata": {},
   "outputs": [],
   "source": [
    "def update_current_time_entry_duration(time_entry):\n",
    "    time_entry[\"duration\"] = (datetime.utcnow().replace(tzinfo=pytz.utc) - \\\n",
    "                              time_entry[\"start\"]).seconds\n",
    "    return time_entry\n",
    "\n",
    "def get_time_entries(start_date, end_date):\n",
    "    date_to_str = lambda date: date.strftime('%Y-%m-%dT%H:%M:%S') + f'{date.strftime(\"%z\")[:3]}:{date.strftime(\"%z\")[3:]}'\n",
    "    url_exts = '?'\n",
    "    url_exts += f\"start_date={urllib.parse.quote(date_to_str(start_date))}\"\n",
    "    url_exts += f\"&end_date={urllib.parse.quote(date_to_str(end_date))}\"\n",
    "    time_entries = fetch(API['time_entries'] + url_exts)\n",
    "        \n",
    "    time_entries = [x for x in time_entries if 'pid' in x]\n",
    "        \n",
    "    for time_entry in time_entries:\n",
    "        project_id = time_entry['pid']\n",
    "        if project_id not in project_id_names:\n",
    "            project_id_names[project_id] = fetch_project(project_id)\n",
    "        time_entry['project_name'] = project_id_names[project_id]['name']\n",
    "        \n",
    "        time_entry['start'] = datetime.fromisoformat(time_entry['start'])\n",
    "        if 'stop' in time_entry:\n",
    "            time_entry['stop'] = datetime.fromisoformat(time_entry['stop'])\n",
    "        if time_entry['duration'] < 0:\n",
    "            time_entry = update_current_time_entry_duration(time_entry)        \n",
    "    return time_entries\n",
    "\n",
    "def get_day_entries(date):\n",
    "    # TODO\n",
    "    start_date = datetime.fromisoformat(f'{str(date)}T01:00:00+00:00')\n",
    "    end_date = datetime.fromisoformat(f'{str(date)}T23:59:59+00:00')\n",
    "    return get_time_entries(start_date, end_date)\n",
    "\n",
    "def get_todays_entries():\n",
    "    return get_day_entries(date.today())\n",
    "\n",
    "def get_week_entries():\n",
    "    pass\n",
    "\n",
    "def get_month_entries():\n",
    "    pass\n",
    "\n",
    "def get_last_n_days(n):\n",
    "    entries = []\n",
    "    for i in range(n):\n",
    "        entries.append(get_day_entries(date.today() - dt.timedelta(n-1-i)))\n",
    "    return entries\n",
    "\n",
    "def get_all_data():\n",
    "    pass "
   ]
  },
  {
   "cell_type": "markdown",
   "id": "ee540940-a8f0-487f-bc21-cf5b77576d67",
   "metadata": {},
   "source": [
    "## Time entry processing"
   ]
  },
  {
   "cell_type": "code",
   "execution_count": 7,
   "id": "a8e9b9e6-e8a5-4c17-823a-9b5a61f70148",
   "metadata": {},
   "outputs": [],
   "source": [
    "def accumulate(entries):\n",
    "    times = {}\n",
    "    for entry in entries:\n",
    "        times[entry['project_name']] = times.get(entry['project_name'], 0) + entry['duration']\n",
    "    return sorted(list(times.items()), key=itemgetter(1))\n",
    "\n",
    "def n_acc(n, sleep=False):\n",
    "    entries = get_last_n_days(n)\n",
    "    entries = list(map(accumulate, entries))\n",
    "    if not sleep:\n",
    "        entries = [[(k,v) for k,v in x if k != 'sleep睡眠'] for x in entries]\n",
    "    return entries"
   ]
  },
  {
   "cell_type": "markdown",
   "id": "6a14e199-8e75-41b1-a9a7-f9c3223677ae",
   "metadata": {},
   "source": [
    "## Plotting Logic"
   ]
  },
  {
   "cell_type": "code",
   "execution_count": 8,
   "id": "b0d9c062-82da-40d2-88c8-f0442b4ab01c",
   "metadata": {},
   "outputs": [],
   "source": [
    "def general_axis(ax):\n",
    "    ax.set_facecolor('white')\n",
    "    return ax\n",
    "\n",
    "def pie(ax, data):\n",
    "    name, size = [x[0] for x in data], [x[1] for x in data]\n",
    "    ax.pie(size, labels=name, autopct='%1.1f%%',\n",
    "            shadow=True, startangle=180-45, explode=0.05 * np.random.rand(len(data)))\n",
    "    return ax\n",
    "\n",
    "def bar(ax, data):\n",
    "    ax.grid(axis='y')\n",
    "    ax.set_axisbelow(True)\n",
    "    for j, d in enumerate(data): \n",
    "        height = 0\n",
    "        cmap = plt.cm.get_cmap('hsv', len(d))\n",
    "        inverse_shrink = 5\n",
    "        for i, (x,y) in enumerate(reversed(d)):\n",
    "            y_scaled = y/(60*60)\n",
    "            new_height = height + y_scaled\n",
    "            ax.bar(j, height=y_scaled, tick_label='Today', alpha=1, color=cmap(i), bottom=height, edgecolor='black')\n",
    "            ax.text(j, new_height, str(dt.timedelta(seconds=y)) + ' ' + x, va='top', ha='center', size=8)\n",
    "            height = new_height\n",
    "    return ax\n",
    "\n",
    "# Goals\n",
    "def goal_plot(axs, daily_goals, acc):\n",
    "    text_size = 14\n",
    "    y_pos = np.arange(len(daily_goals))\n",
    "    d_acc = dict(acc)\n",
    "    percents = [d_acc.get(name, 0) / seconds * 100 for _,name,seconds in daily_goals]\n",
    "    general_axis(axs)\n",
    "    axs.grid(axis='x')\n",
    "    axs.barh(y_pos, percents)\n",
    "    axs.tick_params(axis='x', labelsize=text_size)\n",
    "    axs.set_yticks(y_pos, labels=[name for _,name,_ in daily_goals], size=text_size)\n",
    "    axs.axvline(100, color='red')\n",
    "    axs.set_xlim(0, 115)\n",
    "    for y, (_,name,target) in zip(y_pos, daily_goals):\n",
    "        axs.text(3, y, f\"{dt.timedelta(seconds=d_acc.get(name, 0))} / {dt.timedelta(seconds=target)}\", size=text_size)\n",
    "    return axs"
   ]
  },
  {
   "cell_type": "markdown",
   "id": "d1b5b7fb-dc79-4b1b-b519-d66c2412abcd",
   "metadata": {},
   "source": [
    "# Goals"
   ]
  },
  {
   "cell_type": "code",
   "execution_count": 9,
   "id": "afb3bb85-5b8f-404b-b05b-d6c97e9e61aa",
   "metadata": {},
   "outputs": [
    {
     "name": "stdout",
     "output_type": "stream",
     "text": [
      "185499583 morning\n",
      "163125874 improvements\n",
      "165777572 social productive社会的、生産的\n",
      "186239363 evening\n",
      "163125866 sleep睡眠\n",
      "187567761 unknown\n",
      "165947128 entertainment\n",
      "165352471 communicationコミュニケーション\n",
      "165598846 cook食べ物\n",
      "165297879 maintenanceメンテナンス\n",
      "187511108 nonfiction, listen\n",
      "163125865 meditate瞑想\n",
      "184591500 commute\n",
      "185247273 write\n",
      "165296570 toiletトイレ\n",
      "165304788 sportトレニング\n",
      "163126231 eat食べる\n",
      "165296445 social社会的\n",
      "186567117 life_debugging\n",
      "165297234 plan計画\n",
      "163125846 tulpa_training\n",
      "165301785 AIA_original\n",
      "187084115 aia_discussion\n",
      "186119188 reflect\n",
      "165296497 research研究\n",
      "185725569 frisky\n",
      "186454695 SERI_MATS_event\n",
      "185927511 AIA_skillup\n"
     ]
    }
   ],
   "source": [
    "for k in project_id_names:\n",
    "    print(k, project_id_names[k]['name'])"
   ]
  },
  {
   "cell_type": "code",
   "execution_count": 10,
   "id": "bff198fc-943d-4546-9a99-88326be1f88c",
   "metadata": {},
   "outputs": [
    {
     "name": "stdout",
     "output_type": "stream",
     "text": [
      "(163125865, 'meditate瞑想', 2400)\n",
      "(165304788, 'sportトレニング', 1800)\n",
      "(163125846, 'tulpa_training', 300)\n",
      "(165301785, 'AIA_original', 3600)\n",
      "(186119188, 'reflect', 300)\n"
     ]
    }
   ],
   "source": [
    "# Daily goals, given as project_id and minutes\n",
    "daily_goals = [\n",
    "               (163125865, 40), # Meditate           \n",
    "               (165304788, 30), # Sport\n",
    "               (163125846,  5), # Tulpa training\n",
    "               (165301785, 60), # AIA original\n",
    "               (186119188,  5), # Reflect               \n",
    "             ]\n",
    "daily_goals = [(pid, project_id_names[pid]['name'], mins*60) for pid, mins in daily_goals]\n",
    "for i in daily_goals:\n",
    "    print(i)"
   ]
  },
  {
   "cell_type": "markdown",
   "id": "0ddf4e2c-436d-4495-9fab-03d722fcf055",
   "metadata": {},
   "source": [
    "# Visualisations"
   ]
  },
  {
   "cell_type": "code",
   "execution_count": 11,
   "id": "860608b8-0adc-4783-9f43-29ec21699eb4",
   "metadata": {},
   "outputs": [],
   "source": [
    "def generate_goal_plot(show_plot=True):\n",
    "    scale = 1.5\n",
    "    text_size = 14\n",
    "    fig, axs = plt.subplots(3, 2, figsize=(17*scale, 9*scale))\n",
    "    figtitle = \"1_goals\"\n",
    "    fig.suptitle(figtitle, fontsize=text_size*3)\n",
    "    axs = axs.flatten()\n",
    "    titles = [str(date.today()), ]\n",
    "    for i, a in enumerate(reversed(acc_7[1:])):\n",
    "        goal_plot(axs[i], daily_goals, a)\n",
    "        axs[i].set_title(str(str(date.today() - dt.timedelta(i))))\n",
    "    plt.savefig(f\"plots/{figtitle}.png\", facecolor='white', transparent=False, bbox_inches='tight')\n",
    "    if show_plot:\n",
    "        plt.show()"
   ]
  },
  {
   "cell_type": "code",
   "execution_count": 12,
   "id": "30ab8ee5-3eba-4fb8-bc65-b2adf3c5e58f",
   "metadata": {},
   "outputs": [],
   "source": [
    "def generate_pies(show_plot=True):\n",
    "    text_size = 14\n",
    "    fig, axs = plt.subplots(1,1,figsize=(20,20))\n",
    "    figtitle = \"3_pie_1\"\n",
    "    fig.suptitle(figtitle, fontsize=text_size*3)\n",
    "    pie(axs, acc_7[-1])\n",
    "    plt.savefig(f\"plots/{figtitle}.png\", facecolor='white', transparent=False, bbox_inches='tight')\n",
    "    if show_plot:\n",
    "        plt.show()\n",
    "\n",
    "    fig, axs = plt.subplots(1,1,figsize=(20,20))\n",
    "    figtitle = \"3_pie_2_no-sleep\"\n",
    "    fig.suptitle(figtitle, fontsize=text_size*3)\n",
    "    pie(axs, acc_7_nosleep[-1])\n",
    "    plt.savefig(f\"plots/{figtitle}.png\", facecolor='white', transparent=False, bbox_inches='tight')\n",
    "    if show_plot:\n",
    "        plt.show()"
   ]
  },
  {
   "cell_type": "code",
   "execution_count": 16,
   "id": "3e05576c-b51c-473d-9f5f-03b1b390dab7",
   "metadata": {},
   "outputs": [],
   "source": [
    "def generate_bars(show_plot=True):\n",
    "    text_size = 14\n",
    "    scale = 1.5*1.41\n",
    "    fig, axs = plt.subplots(1,1,figsize=(16*scale,9*scale))\n",
    "    figtitle = \"2_bar_1\"\n",
    "    fig.suptitle(figtitle, fontsize=text_size*3)\n",
    "    bar(axs, acc_7)\n",
    "    axs.axhline(24, color='red')\n",
    "    plt.savefig(f\"plots/{figtitle}.png\", facecolor='white', transparent=False, bbox_inches='tight')\n",
    "    if show_plot:\n",
    "        plt.show()\n",
    "\n",
    "    fig, axs = plt.subplots(1,1,figsize=(16*scale,9*scale))\n",
    "    figtitle = \"2_bar_2_no-sleep\"\n",
    "    fig.suptitle(figtitle, fontsize=text_size*3)\n",
    "    bar(axs, acc_7_nosleep)\n",
    "    plt.savefig(f\"plots/{figtitle}.png\", facecolor='white', transparent=False, bbox_inches='tight')\n",
    "    if show_plot:\n",
    "        plt.show()"
   ]
  },
  {
   "cell_type": "code",
   "execution_count": null,
   "id": "0049ba35-a8d1-478c-864e-8e26ea264678",
   "metadata": {},
   "outputs": [
    {
     "name": "stdout",
     "output_type": "stream",
     "text": [
      "generated 2022-11-30 15:19:39.573825"
     ]
    }
   ],
   "source": [
    "# Continuously fetch the data and update the plots\n",
    "WAIT = 90\n",
    "SHOW_PLOTS = False\n",
    "while True:\n",
    "    while True:\n",
    "        try:\n",
    "            acc_7 = n_acc(7, True)\n",
    "            acc_7_nosleep = n_acc(7)\n",
    "            break\n",
    "        except:\n",
    "            print(f\"Connection error. Sleeping {WAIT}s\")\n",
    "            time.sleep(WAIT)\n",
    "    clear_output()\n",
    "    generate_goal_plot(show_plot=SHOW_PLOTS)\n",
    "    generate_pies(show_plot=SHOW_PLOTS)\n",
    "    generate_bars(show_plot=SHOW_PLOTS)\n",
    "    print(f\"\\rgenerated {datetime.now()}\",end=\"\")\n",
    "    time.sleep(WAIT)"
   ]
  },
  {
   "cell_type": "code",
   "execution_count": null,
   "id": "310d4d4c-0806-403c-8989-96e5d5b69fc6",
   "metadata": {},
   "outputs": [],
   "source": []
  }
 ],
 "metadata": {
  "kernelspec": {
   "display_name": "Python 3 (ipykernel)",
   "language": "python",
   "name": "python3"
  },
  "language_info": {
   "codemirror_mode": {
    "name": "ipython",
    "version": 3
   },
   "file_extension": ".py",
   "mimetype": "text/x-python",
   "name": "python",
   "nbconvert_exporter": "python",
   "pygments_lexer": "ipython3",
   "version": "3.10.6"
  }
 },
 "nbformat": 4,
 "nbformat_minor": 5
}
